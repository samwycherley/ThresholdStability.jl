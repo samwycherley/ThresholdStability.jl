{
 "cells": [
  {
   "cell_type": "markdown",
   "metadata": {},
   "source": [
    "# Testing the stability of a CKSVAR model\n",
    "\n",
    "Here, we test the stability of the CKSVAR model estimated for Japan in:\n",
    "- Ikeda, Li, Mavroeidis and Zanetti (2021), \"[Testing the effectiveness of monetary policy in Japan and the United States](https://arxiv.org/abs/2012.15158).\" Working paper.\n",
    "\n",
    "This paper is hereafter referred to as ILMZ21."
   ]
  },
  {
   "cell_type": "markdown",
   "metadata": {},
   "source": [
    "In ILMZ21, the effectiveness of unconventional monetary policy in Japan is investigated via estimation of a CKSVAR(2) model in inflation, output gap and the Call Rate for Japan, over the period 1985q3-2019q1, with shadow call rate as the latent variable.\n",
    "\n",
    "Converting this model into TAR form, we determine upper bounds on the state-constrained joint spectral radius (SCJSR)"
   ]
  },
  {
   "cell_type": "code",
   "execution_count": 1,
   "metadata": {},
   "outputs": [
    {
     "name": "stderr",
     "output_type": "stream",
     "text": [
      "┌ Info: Precompiling DataFrames [a93c6f00-e57d-5684-b7b6-d8193f3e46c0]\n",
      "└ @ Base loading.jl:1342\n",
      "┌ Info: Precompiling DataFramesMeta [1313f7d8-7da2-5740-9ea0-a2ca25f37964]\n",
      "└ @ Base loading.jl:1342\n",
      "┌ Info: Precompiling ThresholdStability [da96a6fb-8b33-4fd1-b1ac-41ea4d13f1f8]\n",
      "└ @ Base loading.jl:1342\n"
     ]
    },
    {
     "data": {
      "text/html": [
       "<div class=\"data-frame\"><p>38 rows × 2 columns</p><table class=\"data-frame\"><thead><tr><th></th><th>Parameter</th><th>Estimate</th></tr><tr><th></th><th title=\"String15\">String15</th><th title=\"Float64\">Float64</th></tr></thead><tbody><tr><th>1</th><td>tau</td><td>0.357388</td></tr><tr><th>2</th><td>Eq.3 Constant</td><td>-0.125709</td></tr><tr><th>3</th><td>Eq.3 PGR</td><td>0.132664</td></tr><tr><th>4</th><td>Eq.3 INFL_1</td><td>0.295522</td></tr><tr><th>5</th><td>Eq.3 INFL_2</td><td>0.0888194</td></tr><tr><th>6</th><td>Eq.3 YGAP_BOJ_1</td><td>0.175247</td></tr><tr><th>7</th><td>Eq.3 YGAP_BOJ_2</td><td>-0.145538</td></tr><tr><th>8</th><td>Eq.3 SR_1</td><td>1.23818</td></tr><tr><th>9</th><td>Eq.3 SR_2</td><td>-0.358167</td></tr><tr><th>10</th><td>Eq.3 lSR_1</td><td>0.567004</td></tr><tr><th>11</th><td>Eq.3 lSR_2</td><td>0.4225</td></tr><tr><th>12</th><td>tildebeta_1</td><td>-0.0263625</td></tr><tr><th>13</th><td>tildebeta_2</td><td>-0.777769</td></tr><tr><th>14</th><td>Eq.1 Constant</td><td>0.00558272</td></tr><tr><th>15</th><td>Eq.1 PGR</td><td>0.008897</td></tr><tr><th>16</th><td>Eq.1 INFL_1</td><td>-0.000753654</td></tr><tr><th>17</th><td>Eq.1 INFL_2</td><td>-0.0901409</td></tr><tr><th>18</th><td>Eq.1 YGAP_BOJ_1</td><td>0.161144</td></tr><tr><th>19</th><td>Eq.1 YGAP_BOJ_2</td><td>-0.0632448</td></tr><tr><th>20</th><td>Eq.1 SR_1</td><td>0.0509027</td></tr><tr><th>21</th><td>Eq.1 SR_2</td><td>-0.00197475</td></tr><tr><th>22</th><td>Eq.2 Constant</td><td>-0.141027</td></tr><tr><th>23</th><td>Eq.2 PGR</td><td>0.0759228</td></tr><tr><th>24</th><td>Eq.2 INFL_1</td><td>0.0912603</td></tr><tr><th>25</th><td>Eq.2 INFL_2</td><td>-0.21108</td></tr><tr><th>26</th><td>Eq.2 YGAP_BOJ_1</td><td>1.51572</td></tr><tr><th>27</th><td>Eq.2 YGAP_BOJ_2</td><td>-0.593269</td></tr><tr><th>28</th><td>Eq.2 SR_1</td><td>0.204207</td></tr><tr><th>29</th><td>Eq.2 SR_2</td><td>-0.199666</td></tr><tr><th>30</th><td>Eq.1 lSR_1</td><td>-0.28849</td></tr><tr><th>&vellip;</th><td>&vellip;</td><td>&vellip;</td></tr></tbody></table></div>"
      ],
      "text/latex": [
       "\\begin{tabular}{r|cc}\n",
       "\t& Parameter & Estimate\\\\\n",
       "\t\\hline\n",
       "\t& String15 & Float64\\\\\n",
       "\t\\hline\n",
       "\t1 & tau & 0.357388 \\\\\n",
       "\t2 & Eq.3 Constant & -0.125709 \\\\\n",
       "\t3 & Eq.3 PGR & 0.132664 \\\\\n",
       "\t4 & Eq.3 INFL\\_1 & 0.295522 \\\\\n",
       "\t5 & Eq.3 INFL\\_2 & 0.0888194 \\\\\n",
       "\t6 & Eq.3 YGAP\\_BOJ\\_1 & 0.175247 \\\\\n",
       "\t7 & Eq.3 YGAP\\_BOJ\\_2 & -0.145538 \\\\\n",
       "\t8 & Eq.3 SR\\_1 & 1.23818 \\\\\n",
       "\t9 & Eq.3 SR\\_2 & -0.358167 \\\\\n",
       "\t10 & Eq.3 lSR\\_1 & 0.567004 \\\\\n",
       "\t11 & Eq.3 lSR\\_2 & 0.4225 \\\\\n",
       "\t12 & tildebeta\\_1 & -0.0263625 \\\\\n",
       "\t13 & tildebeta\\_2 & -0.777769 \\\\\n",
       "\t14 & Eq.1 Constant & 0.00558272 \\\\\n",
       "\t15 & Eq.1 PGR & 0.008897 \\\\\n",
       "\t16 & Eq.1 INFL\\_1 & -0.000753654 \\\\\n",
       "\t17 & Eq.1 INFL\\_2 & -0.0901409 \\\\\n",
       "\t18 & Eq.1 YGAP\\_BOJ\\_1 & 0.161144 \\\\\n",
       "\t19 & Eq.1 YGAP\\_BOJ\\_2 & -0.0632448 \\\\\n",
       "\t20 & Eq.1 SR\\_1 & 0.0509027 \\\\\n",
       "\t21 & Eq.1 SR\\_2 & -0.00197475 \\\\\n",
       "\t22 & Eq.2 Constant & -0.141027 \\\\\n",
       "\t23 & Eq.2 PGR & 0.0759228 \\\\\n",
       "\t24 & Eq.2 INFL\\_1 & 0.0912603 \\\\\n",
       "\t25 & Eq.2 INFL\\_2 & -0.21108 \\\\\n",
       "\t26 & Eq.2 YGAP\\_BOJ\\_1 & 1.51572 \\\\\n",
       "\t27 & Eq.2 YGAP\\_BOJ\\_2 & -0.593269 \\\\\n",
       "\t28 & Eq.2 SR\\_1 & 0.204207 \\\\\n",
       "\t29 & Eq.2 SR\\_2 & -0.199666 \\\\\n",
       "\t30 & Eq.1 lSR\\_1 & -0.28849 \\\\\n",
       "\t$\\dots$ & $\\dots$ & $\\dots$ \\\\\n",
       "\\end{tabular}\n"
      ],
      "text/plain": [
       "\u001b[1m38×2 DataFrame\u001b[0m\n",
       "\u001b[1m Row \u001b[0m│\u001b[1m Parameter       \u001b[0m\u001b[1m Estimate    \u001b[0m\n",
       "\u001b[1m     \u001b[0m│\u001b[90m String15        \u001b[0m\u001b[90m Float64     \u001b[0m\n",
       "─────┼──────────────────────────────\n",
       "   1 │ tau               0.357388\n",
       "   2 │ Eq.3 Constant    -0.125709\n",
       "   3 │ Eq.3 PGR          0.132664\n",
       "   4 │ Eq.3 INFL_1       0.295522\n",
       "   5 │ Eq.3 INFL_2       0.0888194\n",
       "   6 │ Eq.3 YGAP_BOJ_1   0.175247\n",
       "   7 │ Eq.3 YGAP_BOJ_2  -0.145538\n",
       "   8 │ Eq.3 SR_1         1.23818\n",
       "   9 │ Eq.3 SR_2        -0.358167\n",
       "  10 │ Eq.3 lSR_1        0.567004\n",
       "  11 │ Eq.3 lSR_2        0.4225\n",
       "  ⋮  │        ⋮              ⋮\n",
       "  29 │ Eq.2 SR_2        -0.199666\n",
       "  30 │ Eq.1 lSR_1       -0.28849\n",
       "  31 │ Eq.1 lSR_2        0.210848\n",
       "  32 │ Eq.2 lSR_1       -1.64623\n",
       "  33 │ Eq.2 lSR_2        0.786926\n",
       "  34 │ delta_1           0.108417\n",
       "  35 │ delta_2           0.34586\n",
       "  36 │ Ch_11             0.267\n",
       "  37 │ Ch_21             0.00534623\n",
       "  38 │ Ch_22             0.350742\n",
       "\u001b[36m                     17 rows omitted\u001b[0m"
      ]
     },
     "execution_count": 1,
     "metadata": {},
     "output_type": "execute_result"
    }
   ],
   "source": [
    "using DataFrames, DataFramesMeta, CSV, HTTP\n",
    "using ThresholdStability\n",
    "\n",
    "extract_est(parname, df) = @subset(df, in([parname]).(:Parameter)).:Estimate[1]\n",
    "\n",
    "JP = CSV.read(HTTP.get(\"https://raw.githubusercontent.com/samwycherley/ThresholdStability.jl/master/examples/src/estimates/estimates_JP.csv\").body, DataFrame, copycols=true)  # Japan data from CSV"
   ]
  },
  {
   "cell_type": "markdown",
   "metadata": {},
   "source": [
    "This loads the Japan estimates as a dataframe and defines a function to extract estimates. Next, we build the matrices:"
   ]
  },
  {
   "cell_type": "code",
   "execution_count": 2,
   "metadata": {},
   "outputs": [
    {
     "data": {
      "text/plain": [
       "([[-0.00075365356865 0.161144327919405 … -0.063244772053654 -0.0019747468909369903; 0.091260254002804 1.51572351460357 … -0.593269170973906 -0.19966646656439402; … ; 0.0 1.0 … 0.0 0.0; 0.0 0.0 … 0.0 0.0], [-0.00075365356865 0.161144327919405 … -0.063244772053654 0.210848444745381; 0.091260254002804 1.51572351460357 … -0.593269170973906 0.786926449180816; … ; 0.0 1.0 … 0.0 0.0; 0.0 0.0 … 0.0 0.0], [-0.00075365356865 0.161144327919405 … -0.063244772053654 -0.0019747468909369903; 0.091260254002804 1.51572351460357 … -0.593269170973906 -0.19966646656439402; … ; 0.0 1.0 … 0.0 0.0; 0.0 0.0 … 0.0 0.0], [-0.00075365356865 0.161144327919405 … -0.063244772053654 0.210848444745381; 0.091260254002804 1.51572351460357 … -0.593269170973906 0.786926449180816; … ; 0.0 1.0 … 0.0 0.0; 0.0 0.0 … 0.0 0.0]], Any[[[0.0 0.0 … 0.0 0.0; 0.0 0.0 … 0.0 1.0], [0.0 0.0 … 0.0 0.0]], [[0.0 0.0 … 0.0 0.0; 0.0 0.0 … 0.0 -1.0], [0.0 0.0 … 0.0 0.0]], [[0.0 0.0 … 0.0 0.0; 0.0 0.0 … 0.0 1.0], [0.0 0.0 … 0.0 0.0]], [[0.0 0.0 … 0.0 0.0; 0.0 0.0 … 0.0 -1.0], [0.0 0.0 … 0.0 0.0]]])"
      ]
     },
     "execution_count": 2,
     "metadata": {},
     "output_type": "execute_result"
    }
   ],
   "source": [
    "JPβtilde = zeros(2)\n",
    "for i in 1:2\n",
    "    JPβtilde[i] = extract_est(\"tildebeta_$i\", JP)\n",
    "end\n",
    "\n",
    "JPCstar = zeros(3, 2)\n",
    "for i in 1:3\n",
    "    for j in 1:2\n",
    "        JPCstar[i, j] = extract_est(\"Eq.$i lSR_$j\", JP)\n",
    "    end\n",
    "end\n",
    "\n",
    "Cbars = []\n",
    "for j in 1:2\n",
    "    Cbar_j = zeros(3, 3)\n",
    "    for i in 1:3\n",
    "        Cbar_j[i, 1] = extract_est(\"Eq.$i INFL_$j\", JP)\n",
    "        Cbar_j[i, 2] = extract_est(\"Eq.$i YGAP_BOJ_$j\", JP)\n",
    "        Cbar_j[i, 3] = extract_est(\"Eq.$i SR_$j\", JP)\n",
    "    end\n",
    "    push!(Cbars, Cbar_j)\n",
    "end\n",
    "JPCbar = hcat(Cbars[1], Cbars[2])\n",
    "\n",
    "JPC = copy(JPCbar); k = size(JPC, 1)  # convert C̄ to C\n",
    "for i in 1:2\n",
    "    JPC[:, i*k] -= JPCstar[:, i]\n",
    "end\n",
    "\n",
    "Σ_JP, X_JP = CKSVAR_to_TAR(JPC, JPCstar, JPβtilde, 2)"
   ]
  },
  {
   "cell_type": "markdown",
   "metadata": {},
   "source": [
    "Write this as a state-dependent switched linear system:"
   ]
  },
  {
   "cell_type": "code",
   "execution_count": 3,
   "metadata": {},
   "outputs": [
    {
     "data": {
      "text/plain": [
       "Hybrid System with automaton LightAutomaton{LightGraphs.SimpleGraphs.SimpleDiGraph{Int64}, LightGraphs.SimpleGraphs.SimpleEdge{Int64}}({4, 8} directed simple Int64 graph, Dict{LightGraphs.SimpleGraphs.SimpleEdge{Int64}, Dict{Int64, Int64}}(Edge 3 => 2 => Dict(5 => 3), Edge 1 => 1 => Dict(1 => 1), Edge 4 => 2 => Dict(7 => 4), Edge 1 => 3 => Dict(2 => 1), Edge 2 => 1 => Dict(3 => 2), Edge 3 => 4 => Dict(6 => 3), Edge 2 => 3 => Dict(4 => 2), Edge 4 => 4 => Dict(8 => 4)), 8, 8)"
      ]
     },
     "execution_count": 3,
     "metadata": {},
     "output_type": "execute_result"
    }
   ],
   "source": [
    "G_JP = automaton_constructor(Σ_JP)\n",
    "s_JP = discreteswitchedsystem(Σ_JP, G_JP, X_JP)"
   ]
  },
  {
   "cell_type": "code",
   "execution_count": 4,
   "metadata": {},
   "outputs": [
    {
     "name": "stderr",
     "output_type": "stream",
     "text": [
      "┌ Warning: Making slow progress. Reporting upper bound with reduced accuracy.\n",
      "└ @ ThresholdStability C:\\Users\\samvp\\.julia\\packages\\ThresholdStability\\3zSAB\\src\\sos_gamma_search.jl:43\n"
     ]
    },
    {
     "name": "stdout",
     "output_type": "stream",
     "text": [
      "sosbound_γ(s_JP, 2) = 0.9409652709960938\n"
     ]
    },
    {
     "data": {
      "text/plain": [
       "0.9409652709960938"
      ]
     },
     "execution_count": 4,
     "metadata": {},
     "output_type": "execute_result"
    }
   ],
   "source": [
    "@show sosbound_γ(s_JP, 2)"
   ]
  },
  {
   "cell_type": "markdown",
   "metadata": {},
   "source": [
    "We see that the model estimated for Japan is stable"
   ]
  }
 ],
 "metadata": {
  "kernelspec": {
   "display_name": "Julia 1.6.2",
   "language": "julia",
   "name": "julia-1.6"
  },
  "language_info": {
   "file_extension": ".jl",
   "mimetype": "application/julia",
   "name": "julia",
   "version": "1.6.2"
  }
 },
 "nbformat": 4,
 "nbformat_minor": 2
}
